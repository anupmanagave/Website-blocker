{
 "cells": [
  {
   "cell_type": "markdown",
   "metadata": {},
   "source": [
    "# WebSite Blocker"
   ]
  },
  {
   "cell_type": "markdown",
   "metadata": {},
   "source": [
    "This website blocker helps to block selected websites during selected time. For example, using this script you can block social networking sites during work hours at office and open them for everyone after work hours."
   ]
  },
  {
   "cell_type": "markdown",
   "metadata": {},
   "source": [
    "### Handling Time durations of blocked websites"
   ]
  },
  {
   "cell_type": "code",
   "execution_count": 5,
   "metadata": {},
   "outputs": [],
   "source": [
    "from datetime import datetime as dt"
   ]
  },
  {
   "cell_type": "code",
   "execution_count": 6,
   "metadata": {},
   "outputs": [
    {
     "data": {
      "text/plain": [
       "datetime.datetime(2018, 5, 20, 0, 45, 54, 191561)"
      ]
     },
     "execution_count": 6,
     "metadata": {},
     "output_type": "execute_result"
    }
   ],
   "source": [
    "dt.now()"
   ]
  },
  {
   "cell_type": "markdown",
   "metadata": {},
   "source": [
    "In output above, 2018 is year, 5 is month, 19 is date and Time is 0:06:45 whereas 582002 is micro seconds."
   ]
  },
  {
   "cell_type": "code",
   "execution_count": 7,
   "metadata": {},
   "outputs": [
    {
     "name": "stdout",
     "output_type": "stream",
     "text": [
      "0\n"
     ]
    }
   ],
   "source": [
    "print(dt.now().hour)"
   ]
  },
  {
   "cell_type": "markdown",
   "metadata": {},
   "source": [
    "To get current hour from datatime"
   ]
  },
  {
   "cell_type": "code",
   "execution_count": 8,
   "metadata": {},
   "outputs": [
    {
     "name": "stdout",
     "output_type": "stream",
     "text": [
      "Its still night yet\n"
     ]
    }
   ],
   "source": [
    "if ((dt.now().hour>=0) and (dt.now().hour<=6)):\n",
    "    print(\"Its still night yet\")\n",
    "else:\n",
    "    print('Have a good day today')"
   ]
  },
  {
   "cell_type": "markdown",
   "metadata": {},
   "source": [
    "This is how we will handle blocking websites for particular time interval."
   ]
  },
  {
   "cell_type": "markdown",
   "metadata": {},
   "source": [
    "### Blocking of Websites"
   ]
  },
  {
   "cell_type": "markdown",
   "metadata": {},
   "source": [
    " Path of host file for windows is: C:\\Windows\\System32\\drivers\\etc\\hosts\n",
    " for Linux/MAC you msy find it uner \\etc\\hosts\n",
    " We will be adding URLs of websites that we want to block in this file.\n",
    " \n",
    " \n",
    " Consider you want to block following sites-\n",
    "\n",
    "www.facebook.com \n",
    "\n",
    "www.amazon.com \n",
    "\n",
    "www.youtube.com"
   ]
  },
  {
   "cell_type": "code",
   "execution_count": 12,
   "metadata": {},
   "outputs": [],
   "source": [
    "host_path=r\"C:\\Windows\\System32\\drivers\\etc\"\n",
    "redirect=\"127.0.0.1\"\n",
    "website_list=[\"www.facebook.com\", \"www.amazon.com\", \"www.youtube.com\"]"
   ]
  },
  {
   "cell_type": "code",
   "execution_count": 10,
   "metadata": {},
   "outputs": [],
   "source": [
    "import time"
   ]
  },
  {
   "cell_type": "code",
   "execution_count": null,
   "metadata": {},
   "outputs": [],
   "source": [
    "while True:\n",
    "    if ((dt.now().hour>=9) and (dt.now().hour<=17)):\n",
    "        with open(host_path, 'r+') as file:\n",
    "            content=file.read()\n",
    "            for website in website_list:\n",
    "                if website in content:\n",
    "                    pass\n",
    "                else:\n",
    "                    file.write(redirect+\" \"+website+\"\\n\")\n",
    "    else:\n",
    "        with open(host_path, 'r+') as file:\n",
    "            content=file.readlines()\n",
    "            file.seek(0)\n",
    "            for line in content:\n",
    "                if not any(website in line for website in website_list):\n",
    "                    file.write(line)\n",
    "            file.truncate()\n",
    "    time.sleep(5)"
   ]
  },
  {
   "cell_type": "markdown",
   "metadata": {},
   "source": [
    "### Instructions for Execution:"
   ]
  },
  {
   "cell_type": "markdown",
   "metadata": {},
   "source": [
    "In order to execute this script, you need two things-\n",
    "\n",
    "1. Admin Perivileges\n",
    "\n",
    "2. Able to run it in backgroud (you don't want cmd window open all the time when you work on your PC)\n",
    "\n",
    "For achieving it, do the following-\n",
    "\n",
    "1. Save the file with .pyw extention which will allow the script to run in background.\n",
    "\n",
    "2. For windows, search for \"Task Scheduler\", Open it\n",
    "\n",
    "3. Select Task Schedular Library and then choose create task\n",
    "\n",
    "4. Give name for the task, select \"configure for\" and choose appropriate Windows version.\n",
    "\n",
    "5. Select checkbox of \"Run eith highest privileges\" (Very Very Important).\n",
    "\n",
    "6. Now, goto \"Triggers\" tab\n",
    "\n",
    "7. Select \"Begin the task\" and choose \"at startup\" ->\"OK\".\n",
    "\n",
    "8. Goto \"Actions\" tab, select \"New\".\n",
    "\n",
    "9. Select \"Action\" as \"Start a program\". -> \"OK\".\n",
    "\n",
    "10. Select \"Program/Script\" , Locate your program, open it.\n",
    "\n",
    "11. \"OK\" close the window.\n",
    "\n",
    "\"Voila!! You are set !!\""
   ]
  }
 ],
 "metadata": {
  "kernelspec": {
   "display_name": "Python 3",
   "language": "python",
   "name": "python3"
  },
  "language_info": {
   "codemirror_mode": {
    "name": "ipython",
    "version": 3
   },
   "file_extension": ".py",
   "mimetype": "text/x-python",
   "name": "python",
   "nbconvert_exporter": "python",
   "pygments_lexer": "ipython3",
   "version": "3.6.4"
  }
 },
 "nbformat": 4,
 "nbformat_minor": 2
}
